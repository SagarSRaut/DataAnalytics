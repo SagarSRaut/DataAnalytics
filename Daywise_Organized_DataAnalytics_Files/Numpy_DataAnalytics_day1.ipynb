{
 "cells": [
  {
   "cell_type": "code",
   "execution_count": 1,
   "id": "e4eab75b-1552-4f5b-87ae-a727010bf1bd",
   "metadata": {},
   "outputs": [],
   "source": [
    "import numpy as np"
   ]
  },
  {
   "cell_type": "code",
   "execution_count": 7,
   "id": "5cb1dfdb-25ab-4b82-8e6a-d568e9d9338c",
   "metadata": {},
   "outputs": [
    {
     "name": "stdout",
     "output_type": "stream",
     "text": [
      "[1 2 3]\n",
      "<class 'list'>\n",
      "<class 'numpy.ndarray'>\n"
     ]
    }
   ],
   "source": [
    "my_list = [1,2,3]\n",
    "my_array = np.array([1,2,3])\n",
    "print(my_array)\n",
    "print(type(my_list))\n",
    "print(type(my_array))"
   ]
  },
  {
   "cell_type": "markdown",
   "id": "5ba59710-34e6-4ee3-83e3-23b279995499",
   "metadata": {},
   "source": [
    "#Create a numpy array from a list of list"
   ]
  },
  {
   "cell_type": "code",
   "execution_count": 11,
   "id": "f2ea9d9c-3122-4ff4-83a3-262df2fa8ef4",
   "metadata": {
    "scrolled": true
   },
   "outputs": [
    {
     "data": {
      "text/plain": [
       "(3, 3)"
      ]
     },
     "execution_count": 11,
     "metadata": {},
     "output_type": "execute_result"
    }
   ],
   "source": [
    "matrix = [[1,2,3],[4,5,6],[7,8,9]]\n",
    "arrmatrix = np.array(matrix)\n",
    "arrmatrix.shape #3x3 array is returned"
   ]
  },
  {
   "cell_type": "markdown",
   "id": "8adc2918-d3e4-44c9-8db5-e5a805f7f1b7",
   "metadata": {},
   "source": [
    "creating arrays using built in functions"
   ]
  },
  {
   "cell_type": "code",
   "execution_count": 15,
   "id": "0a050f4a-effd-4a1d-9f55-8974edb01424",
   "metadata": {},
   "outputs": [
    {
     "name": "stdout",
     "output_type": "stream",
     "text": [
      "[0 1 2 3 4 5 6 7 8 9]\n",
      "[ 0  2  4  6  8 10]\n"
     ]
    }
   ],
   "source": [
    "        #start, stop, step\n",
    "print(np.arange(0,10))\n",
    "print(np.arange(0,11,2))"
   ]
  },
  {
   "cell_type": "markdown",
   "id": "138fc8da-9d38-444b-b18a-56830dd3e789",
   "metadata": {},
   "source": [
    "#Generate arrays of zeros or ones"
   ]
  },
  {
   "cell_type": "code",
   "execution_count": 16,
   "id": "599a958e-230f-4c6d-acea-ace2af6721c2",
   "metadata": {},
   "outputs": [
    {
     "name": "stdout",
     "output_type": "stream",
     "text": [
      "[0. 0. 0.]\n",
      "[[0. 0. 0. 0. 0.]\n",
      " [0. 0. 0. 0. 0.]\n",
      " [0. 0. 0. 0. 0.]\n",
      " [0. 0. 0. 0. 0.]\n",
      " [0. 0. 0. 0. 0.]]\n",
      "[1. 1. 1.]\n",
      "[[1. 1. 1.]\n",
      " [1. 1. 1.]\n",
      " [1. 1. 1.]]\n"
     ]
    }
   ],
   "source": [
    "print(np.zeros(3))\n",
    "print(np.zeros((5,5)))\n",
    "print(np.ones(3))\n",
    "print(np.ones((3,3)))"
   ]
  },
  {
   "cell_type": "markdown",
   "id": "2f3fc3fb-c016-410d-81e8-d162350746d0",
   "metadata": {},
   "source": [
    "##Return evenly spaced numbers over a specified intervals"
   ]
  },
  {
   "cell_type": "code",
   "execution_count": 20,
   "id": "d61e161b-159c-478c-8c25-47828d207710",
   "metadata": {},
   "outputs": [
    {
     "name": "stdout",
     "output_type": "stream",
     "text": [
      "[0.         0.55555556 1.11111111 1.66666667 2.22222222 2.77777778\n",
      " 3.33333333 3.88888889 4.44444444 5.        ]\n"
     ]
    }
   ],
   "source": [
    "#Start, stop, number of elements\n",
    "\n",
    "print(np.linspace(0,5,10))"
   ]
  },
  {
   "cell_type": "code",
   "execution_count": 23,
   "id": "af030aac-6f3b-467c-968b-26ff746ec137",
   "metadata": {},
   "outputs": [],
   "source": [
    "##Random number arrays"
   ]
  },
  {
   "cell_type": "code",
   "execution_count": 26,
   "id": "92570a0d-3f3d-4915-9715-3ded0c9bd8c9",
   "metadata": {},
   "outputs": [
    {
     "name": "stdout",
     "output_type": "stream",
     "text": [
      "[0.44687753 0.11493021]\n",
      "[[0.24046046 0.03138975 0.26601833 0.20821665 0.46379014]\n",
      " [0.78305525 0.75532934 0.05655643 0.91679697 0.93639253]\n",
      " [0.11105997 0.31926336 0.97038556 0.87863846 0.06165002]\n",
      " [0.7058919  0.14661191 0.17645171 0.95125337 0.17658372]\n",
      " [0.74404169 0.5011985  0.87482893 0.69841345 0.60258277]]\n"
     ]
    }
   ],
   "source": [
    "print(np.random.rand(2))\n",
    "print(np.random.rand(5,5))"
   ]
  },
  {
   "cell_type": "code",
   "execution_count": 27,
   "id": "b225fea4-c0e1-40a7-8924-02c1814583ee",
   "metadata": {},
   "outputs": [],
   "source": [
    "##From normal distrubtiions"
   ]
  },
  {
   "cell_type": "code",
   "execution_count": 29,
   "id": "13a7b284-cbd7-476b-a5f3-07c63de0f3f2",
   "metadata": {},
   "outputs": [
    {
     "name": "stdout",
     "output_type": "stream",
     "text": [
      "[ 0.50329577 -1.13854504]\n",
      "[[ 1.15622784 -0.3657551  -0.44388762 -1.31526306  1.38523693]\n",
      " [-1.65147653 -1.09144586 -0.44552398  0.87498682 -0.11447028]\n",
      " [ 0.39573541 -0.50237088  0.68120126  0.59533265  2.00941736]\n",
      " [-0.31087715  0.7494255   0.01392738  0.26821132 -0.21474348]\n",
      " [ 1.00773968  1.28420024 -0.10689395 -1.1155112   0.34020711]]\n"
     ]
    }
   ],
   "source": [
    "#Generates a normal distribution curve (bel-curve), 'randn' signifies normal distribution\n",
    "print(np.random.randn(2))\n",
    "print(np.random.randn(5,5))"
   ]
  },
  {
   "cell_type": "code",
   "execution_count": 30,
   "id": "3ffab39e-e216-46f4-a913-ac7ffe69456f",
   "metadata": {},
   "outputs": [],
   "source": [
    "##Random integers from low(inclusive) to high(exclusive)"
   ]
  },
  {
   "cell_type": "code",
   "execution_count": 38,
   "id": "82c09158-09ee-4e98-a724-32146bcd1383",
   "metadata": {},
   "outputs": [
    {
     "name": "stdout",
     "output_type": "stream",
     "text": [
      "18\n",
      "[ 4 47 17 67 52 79 83 66 86 55]\n"
     ]
    }
   ],
   "source": [
    "print(np.random.randint(1,100))\n",
    "print(np.random.randint(1,100,10)) #10 random numbers between 1-100 are generated"
   ]
  },
  {
   "cell_type": "markdown",
   "id": "625acd8b-6d09-4e96-b205-07b3b4b2de7f",
   "metadata": {},
   "source": [
    "#Random vs Seed\n",
    "...Random = Unpredictable\n",
    "...Seed = Predictable"
   ]
  },
  {
   "cell_type": "code",
   "execution_count": 41,
   "id": "0dfad9cc-8654-404c-b373-7d41b035bee6",
   "metadata": {},
   "outputs": [
    {
     "name": "stdout",
     "output_type": "stream",
     "text": [
      "[0.91910903 0.6421956  0.75371223 0.13931457]\n"
     ]
    },
    {
     "data": {
      "text/plain": [
       "array([0.91910903, 0.6421956 , 0.75371223, 0.13931457])"
      ]
     },
     "execution_count": 41,
     "metadata": {},
     "output_type": "execute_result"
    }
   ],
   "source": [
    "np.random.seed(77)\n",
    "print(np.random.rand(4))\n",
    "\n",
    "np.random.seed(77)\n",
    "np.random.rand(4)"
   ]
  },
  {
   "cell_type": "markdown",
   "id": "02a2e233-34b0-4a64-aff6-3ff534504459",
   "metadata": {},
   "source": [
    "#Change the dimensions of array"
   ]
  },
  {
   "cell_type": "code",
   "execution_count": 48,
   "id": "cde3be79-9130-4093-b511-f56d6e73444a",
   "metadata": {},
   "outputs": [
    {
     "data": {
      "text/plain": [
       "array([[ 0,  1,  2,  3,  4],\n",
       "       [ 5,  6,  7,  8,  9],\n",
       "       [10, 11, 12, 13, 14],\n",
       "       [15, 16, 17, 18, 19],\n",
       "       [20, 21, 22, 23, 24],\n",
       "       [25, 26, 27, 28, 29],\n",
       "       [30, 31, 32, 33, 34],\n",
       "       [35, 36, 37, 38, 39],\n",
       "       [40, 41, 42, 43, 44],\n",
       "       [45, 46, 47, 48, 49]])"
      ]
     },
     "execution_count": 48,
     "metadata": {},
     "output_type": "execute_result"
    }
   ],
   "source": [
    "arr = np.arange(50) #25 elements\n",
    "arr.reshape(10,5) #5x5 = 25 elements"
   ]
  },
  {
   "cell_type": "code",
   "execution_count": 50,
   "id": "208debc2-218a-4f46-ba44-a33b41869b26",
   "metadata": {},
   "outputs": [
    {
     "name": "stdout",
     "output_type": "stream",
     "text": [
      "49\n",
      "49\n",
      "0\n"
     ]
    }
   ],
   "source": [
    "print(arr.max()) #max value in the array\n",
    "print(arr.argmax()) #maximum number of elements in the array\n",
    "print(arr.min())"
   ]
  },
  {
   "cell_type": "markdown",
   "id": "14d5e7c2-4bca-424c-aa86-60acdf4e6982",
   "metadata": {},
   "source": [
    "#slicing and indexing in numpy"
   ]
  },
  {
   "cell_type": "code",
   "execution_count": 54,
   "id": "14cae589-7267-4703-9b40-84a72fb0700a",
   "metadata": {},
   "outputs": [
    {
     "name": "stdout",
     "output_type": "stream",
     "text": [
      "[ 0  1  2  3  4  5  6  7  8  9 10]\n",
      "this is the element in the 8th position: 8\n"
     ]
    }
   ],
   "source": [
    "arr1 = np.arange(0,11)\n",
    "print(arr1)\n",
    "print(f\"this is the element in the 8th position: {arr[8]}\")"
   ]
  },
  {
   "cell_type": "code",
   "execution_count": 57,
   "id": "9d96525a-07ca-43e0-a9b5-608fe5921216",
   "metadata": {},
   "outputs": [
    {
     "name": "stdout",
     "output_type": "stream",
     "text": [
      "[  0 100 100 100 100   5   6   7   8   9  10]\n"
     ]
    }
   ],
   "source": [
    "arr1[1:5]=100 #setting a value with index range(broadcasting)\n",
    "print(arr1)"
   ]
  },
  {
   "cell_type": "code",
   "execution_count": 58,
   "id": "7e30fd41-1f5c-49ea-94be-34a6929cff9f",
   "metadata": {},
   "outputs": [
    {
     "data": {
      "text/plain": [
       "array([ 0,  1,  2,  3,  4,  5,  6,  7,  8,  9, 10])"
      ]
     },
     "execution_count": 58,
     "metadata": {},
     "output_type": "execute_result"
    }
   ],
   "source": [
    "arr1 = np.arange(0,11)\n",
    "arr1"
   ]
  },
  {
   "cell_type": "markdown",
   "id": "782262a1-b244-4c73-9633-210c9da0669d",
   "metadata": {},
   "source": [
    "#Important notes on slices"
   ]
  },
  {
   "cell_type": "code",
   "execution_count": 61,
   "id": "04bed43f-dfe4-45f9-9f28-9eaa7a2a55f1",
   "metadata": {},
   "outputs": [
    {
     "data": {
      "text/plain": [
       "array([0, 1, 2, 3, 4, 5])"
      ]
     },
     "execution_count": 61,
     "metadata": {},
     "output_type": "execute_result"
    }
   ],
   "source": [
    "slice = arr1[0:6]\n",
    "slice"
   ]
  },
  {
   "cell_type": "code",
   "execution_count": 63,
   "id": "3996fafe-4c0e-4af6-81f0-04c0631dc5fc",
   "metadata": {},
   "outputs": [
    {
     "name": "stdout",
     "output_type": "stream",
     "text": [
      "[99 99 99 99 99 99]\n"
     ]
    },
    {
     "data": {
      "text/plain": [
       "array([99, 99, 99, 99, 99, 99,  6,  7,  8,  9, 10])"
      ]
     },
     "execution_count": 63,
     "metadata": {},
     "output_type": "execute_result"
    }
   ],
   "source": [
    "slice[:] = 99 #change all elements in the slice with 99\n",
    "print(slice)\n",
    "arr1 #elements in the original array are also changed (slice is just the reference to the original array)"
   ]
  },
  {
   "cell_type": "code",
   "execution_count": 65,
   "id": "2c965f64-ffdf-4184-92aa-b37b96a65eb8",
   "metadata": {},
   "outputs": [
    {
     "data": {
      "text/plain": [
       "array([99, 99, 99, 99, 99, 99,  6,  7,  8,  9, 10])"
      ]
     },
     "execution_count": 65,
     "metadata": {},
     "output_type": "execute_result"
    }
   ],
   "source": [
    "arr1_copy = arr1.copy()\n",
    "arr1_copy"
   ]
  },
  {
   "cell_type": "code",
   "execution_count": 67,
   "id": "dc0c79f2-fb1f-43c5-8577-100775138309",
   "metadata": {},
   "outputs": [
    {
     "data": {
      "text/plain": [
       "array([[1, 2, 3],\n",
       "       [4, 5, 6],\n",
       "       [7, 8, 9]])"
      ]
     },
     "execution_count": 67,
     "metadata": {},
     "output_type": "execute_result"
    }
   ],
   "source": [
    "arr_2d = np.array(([1,2,3],[4,5,6],[7,8,9]))\n",
    "arr_2d"
   ]
  },
  {
   "cell_type": "code",
   "execution_count": 68,
   "id": "a7516329-82ab-4f37-aa84-0d1592270901",
   "metadata": {},
   "outputs": [
    {
     "name": "stdout",
     "output_type": "stream",
     "text": [
      "4\n"
     ]
    },
    {
     "data": {
      "text/plain": [
       "4"
      ]
     },
     "execution_count": 68,
     "metadata": {},
     "output_type": "execute_result"
    }
   ],
   "source": [
    "#both ways of indexing are valid\n",
    "print(arr_2d[1,0])\n",
    "arr_2d[1][0]"
   ]
  },
  {
   "cell_type": "code",
   "execution_count": 70,
   "id": "75766b30-e916-4fc2-89a0-1174e7523579",
   "metadata": {},
   "outputs": [
    {
     "data": {
      "text/plain": [
       "array([[2, 3],\n",
       "       [5, 6]])"
      ]
     },
     "execution_count": 70,
     "metadata": {},
     "output_type": "execute_result"
    }
   ],
   "source": [
    "#2d array slicing\n",
    "arr_2d[:2,1:] #row_start:row_end, col_start:col_end"
   ]
  },
  {
   "cell_type": "code",
   "execution_count": 71,
   "id": "e38f36b3-88dd-4c9e-a4a5-3049925fa069",
   "metadata": {},
   "outputs": [
    {
     "name": "stdout",
     "output_type": "stream",
     "text": [
      "[False False False False False  True  True  True  True  True  True]\n"
     ]
    }
   ],
   "source": [
    "#conditional selection based on the value not the index\n",
    "# returns a boolean array by checking each element in the array by checking the condition provided\n",
    "\n",
    "arr = np.arange(0,11)\n",
    "print(arr>4)"
   ]
  },
  {
   "cell_type": "code",
   "execution_count": 73,
   "id": "6352e543-ed73-433e-a7c2-5959624f7fb1",
   "metadata": {},
   "outputs": [
    {
     "name": "stdout",
     "output_type": "stream",
     "text": [
      "[False False False False False  True  True  True  True  True  True]\n",
      "[ 5  6  7  8  9 10]\n"
     ]
    }
   ],
   "source": [
    "bool_arr = arr>4\n",
    "print(bool_arr)\n"
   ]
  },
  {
   "cell_type": "code",
   "execution_count": null,
   "id": "407efce8-e957-4c2c-9ca8-4272519bcc00",
   "metadata": {},
   "outputs": [],
   "source": [
    "#this returns the actual values that are greater than the given condition\n",
    "print(arr[bool_arr])"
   ]
  },
  {
   "cell_type": "code",
   "execution_count": 77,
   "id": "276636ad-13cd-474e-8dac-e0323de4ae96",
   "metadata": {},
   "outputs": [
    {
     "name": "stdout",
     "output_type": "stream",
     "text": [
      "[10 12 14 16 18 20 22 24 26 28 30]\n",
      "[-10 -10 -10 -10 -10 -10 -10 -10 -10 -10 -10]\n",
      "[  0  11  24  39  56  75  96 119 144 171 200]\n",
      "[0.         0.09090909 0.16666667 0.23076923 0.28571429 0.33333333\n",
      " 0.375      0.41176471 0.44444444 0.47368421 0.5       ]\n",
      "[       inf 1.         0.5        0.33333333 0.25       0.2\n",
      " 0.16666667 0.14285714 0.125      0.11111111 0.1       ] [0.1        0.09090909 0.08333333 0.07692308 0.07142857 0.06666667\n",
      " 0.0625     0.05882353 0.05555556 0.05263158 0.05      ]\n"
     ]
    },
    {
     "name": "stderr",
     "output_type": "stream",
     "text": [
      "C:\\Users\\Administrator.DAI-PC2\\AppData\\Local\\Temp\\ipykernel_20900\\818148495.py:9: RuntimeWarning: divide by zero encountered in divide\n",
      "  print(1/arr1, 1/arr2)\n"
     ]
    }
   ],
   "source": [
    "#Basic Arithmetic\n",
    "arr1 = np.arange(0,11)\n",
    "arr2 = np.arange(10,21)\n",
    "\n",
    "print(arr1+arr2)\n",
    "print(arr1-arr2)\n",
    "print(arr1*arr2)\n",
    "print(arr1/arr2)\n",
    "print(1/arr1, 1/arr2)"
   ]
  },
  {
   "cell_type": "code",
   "execution_count": 81,
   "id": "daa14c3b-379b-439b-a4b2-16741b0ff595",
   "metadata": {},
   "outputs": [
    {
     "name": "stdout",
     "output_type": "stream",
     "text": [
      "[  0   1   4   9  16  25  36  49  64  81 100]\n",
      "[0.         1.         1.41421356 1.73205081 2.         2.23606798\n",
      " 2.44948974 2.64575131 2.82842712 3.         3.16227766]\n",
      "[1.00000000e+00 2.71828183e+00 7.38905610e+00 2.00855369e+01\n",
      " 5.45981500e+01 1.48413159e+02 4.03428793e+02 1.09663316e+03\n",
      " 2.98095799e+03 8.10308393e+03 2.20264658e+04]\n",
      "[ 0.          0.84147098  0.90929743  0.14112001 -0.7568025  -0.95892427\n",
      " -0.2794155   0.6569866   0.98935825  0.41211849 -0.54402111]\n",
      "[      -inf 0.         0.69314718 1.09861229 1.38629436 1.60943791\n",
      " 1.79175947 1.94591015 2.07944154 2.19722458 2.30258509]\n"
     ]
    },
    {
     "name": "stderr",
     "output_type": "stream",
     "text": [
      "C:\\Users\\Administrator.DAI-PC2\\AppData\\Local\\Temp\\ipykernel_20900\\3391617673.py:5: RuntimeWarning: divide by zero encountered in log\n",
      "  print(np.log(arr1))\n"
     ]
    }
   ],
   "source": [
    "print(arr1**2)\n",
    "print(np.sqrt(arr1))\n",
    "print(np.exp(arr1))\n",
    "print(np.sin(arr1))\n",
    "print(np.log(arr1))"
   ]
  },
  {
   "cell_type": "code",
   "execution_count": 82,
   "id": "42a3d8b8-60b9-4d71-9c0d-d2604d64cd48",
   "metadata": {},
   "outputs": [
    {
     "name": "stdout",
     "output_type": "stream",
     "text": [
      "55\n",
      "5.0\n",
      "10\n",
      "0\n",
      "10.0\n",
      "3.1622776601683795\n"
     ]
    }
   ],
   "source": [
    "print(arr1.sum())\n",
    "print(arr1.mean())\n",
    "print(arr1.max())\n",
    "print(arr1.min())\n",
    "print(arr1.var())\n",
    "print(arr1.std())"
   ]
  },
  {
   "cell_type": "code",
   "execution_count": null,
   "id": "a5f471d8-c3e4-4a82-a154-52865609d3ff",
   "metadata": {},
   "outputs": [],
   "source": [
    "#2D array with 3rows and 3columns"
   ]
  },
  {
   "cell_type": "code",
   "execution_count": 84,
   "id": "b959fa13-9217-498d-a47d-fca3853965bf",
   "metadata": {},
   "outputs": [
    {
     "name": "stdout",
     "output_type": "stream",
     "text": [
      "[[1 2 3]\n",
      " [4 5 6]\n",
      " [7 8 9]]\n",
      "[12 15 18] [ 6 15 24]\n"
     ]
    }
   ],
   "source": [
    "print(arr_2d)\n",
    "print(arr_2d.sum(axis=0), arr_2d.sum(axis=1)) #axis 0 --> sum over columns,  axis 1 --> sum over rows"
   ]
  },
  {
   "cell_type": "code",
   "execution_count": 85,
   "id": "dc00a31b-40f3-4d67-8357-03ba41fe4aeb",
   "metadata": {},
   "outputs": [
    {
     "name": "stdout",
     "output_type": "stream",
     "text": [
      "(3, 3)\n"
     ]
    }
   ],
   "source": [
    "print(arr_2d.shape)"
   ]
  },
  {
   "cell_type": "code",
   "execution_count": null,
   "id": "17f5d00d-0096-45ea-a2d6-2cccba9cc6df",
   "metadata": {},
   "outputs": [],
   "source": []
  },
  {
   "cell_type": "code",
   "execution_count": null,
   "id": "ed538b64-00d7-4d97-96b7-370ceee489d3",
   "metadata": {},
   "outputs": [],
   "source": []
  },
  {
   "cell_type": "code",
   "execution_count": null,
   "id": "a1917968-c06f-493f-a29a-15500a997e4b",
   "metadata": {},
   "outputs": [],
   "source": []
  },
  {
   "cell_type": "code",
   "execution_count": null,
   "id": "b113da25-a459-43d9-b69c-2fb4cb954ebd",
   "metadata": {},
   "outputs": [],
   "source": []
  },
  {
   "cell_type": "code",
   "execution_count": null,
   "id": "c38b41af-b80e-4fe2-99f2-14d5ff04010c",
   "metadata": {},
   "outputs": [],
   "source": []
  },
  {
   "cell_type": "code",
   "execution_count": null,
   "id": "96af6919-2ce3-4f4b-9ff9-9372256f237b",
   "metadata": {},
   "outputs": [],
   "source": []
  },
  {
   "cell_type": "code",
   "execution_count": null,
   "id": "97ee7442-605c-43a7-93b9-5eeef6a2822b",
   "metadata": {},
   "outputs": [],
   "source": []
  },
  {
   "cell_type": "code",
   "execution_count": null,
   "id": "a1c27e5f-4151-4d81-8287-2ee31b7ab120",
   "metadata": {},
   "outputs": [],
   "source": []
  },
  {
   "cell_type": "code",
   "execution_count": null,
   "id": "bc9984b8-61e3-4191-9641-1928e9bf1fcc",
   "metadata": {},
   "outputs": [],
   "source": []
  }
 ],
 "metadata": {
  "kernelspec": {
   "display_name": "Python 3 (ipykernel)",
   "language": "python",
   "name": "python3"
  },
  "language_info": {
   "codemirror_mode": {
    "name": "ipython",
    "version": 3
   },
   "file_extension": ".py",
   "mimetype": "text/x-python",
   "name": "python",
   "nbconvert_exporter": "python",
   "pygments_lexer": "ipython3",
   "version": "3.11.7"
  }
 },
 "nbformat": 4,
 "nbformat_minor": 5
}
