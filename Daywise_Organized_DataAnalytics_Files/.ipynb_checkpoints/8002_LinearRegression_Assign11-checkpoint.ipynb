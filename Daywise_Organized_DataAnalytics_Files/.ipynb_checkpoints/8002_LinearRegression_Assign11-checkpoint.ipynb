{
 "cells": [
  {
   "cell_type": "code",
   "execution_count": 2,
   "id": "aa2a6ce5-eaa7-44f7-812d-24b46b355c63",
   "metadata": {},
   "outputs": [],
   "source": [
    "import pandas as pd\n",
    "import numpy as np\n",
    "import matplotlib.pyplot as plt\n",
    "import seaborn as sns"
   ]
  },
  {
   "cell_type": "code",
   "execution_count": 5,
   "id": "95949572-4d90-4a03-961f-43cf900b111f",
   "metadata": {},
   "outputs": [
    {
     "data": {
      "text/html": [
       "<div>\n",
       "<style scoped>\n",
       "    .dataframe tbody tr th:only-of-type {\n",
       "        vertical-align: middle;\n",
       "    }\n",
       "\n",
       "    .dataframe tbody tr th {\n",
       "        vertical-align: top;\n",
       "    }\n",
       "\n",
       "    .dataframe thead th {\n",
       "        text-align: right;\n",
       "    }\n",
       "</style>\n",
       "<table border=\"1\" class=\"dataframe\">\n",
       "  <thead>\n",
       "    <tr style=\"text-align: right;\">\n",
       "      <th></th>\n",
       "      <th>Tax_paid_in_Rs_Thousand</th>\n",
       "      <th>No of taxpayer</th>\n",
       "    </tr>\n",
       "  </thead>\n",
       "  <tbody>\n",
       "    <tr>\n",
       "      <th>0</th>\n",
       "      <td>20-24</td>\n",
       "      <td>45</td>\n",
       "    </tr>\n",
       "    <tr>\n",
       "      <th>1</th>\n",
       "      <td>25-29</td>\n",
       "      <td>200</td>\n",
       "    </tr>\n",
       "    <tr>\n",
       "      <th>2</th>\n",
       "      <td>30-34</td>\n",
       "      <td>130</td>\n",
       "    </tr>\n",
       "    <tr>\n",
       "      <th>3</th>\n",
       "      <td>35-39</td>\n",
       "      <td>65</td>\n",
       "    </tr>\n",
       "    <tr>\n",
       "      <th>4</th>\n",
       "      <td>40-44</td>\n",
       "      <td>45</td>\n",
       "    </tr>\n",
       "    <tr>\n",
       "      <th>5</th>\n",
       "      <td>45-49</td>\n",
       "      <td>15</td>\n",
       "    </tr>\n",
       "  </tbody>\n",
       "</table>\n",
       "</div>"
      ],
      "text/plain": [
       "  Tax_paid_in_Rs_Thousand  No of taxpayer\n",
       "0                   20-24              45\n",
       "1                   25-29             200\n",
       "2                   30-34             130\n",
       "3                   35-39              65\n",
       "4                   40-44              45\n",
       "5                   45-49              15"
      ]
     },
     "execution_count": 5,
     "metadata": {},
     "output_type": "execute_result"
    }
   ],
   "source": [
    "## Q1 ##\n",
    "# Following is the income tax department data for the number of tax payers along with the range of\n",
    "# income tax they paid for a particular year. Find Mean, Median, Mode, Quartile, Quartile Deviations,\n",
    "# Standard Deviation\n",
    "data = pd.DataFrame({'Tax_paid_in_Rs_Thousand':['20-24','25-29','30-34','35-39','40-44','45-49'], 'No of taxpayer':[45,200,130,65,45,15]})\n",
    "data"
   ]
  },
  {
   "cell_type": "code",
   "execution_count": 6,
   "id": "f9cf13d1-3104-4670-9475-1e78181b4be2",
   "metadata": {},
   "outputs": [
    {
     "data": {
      "text/html": [
       "<div>\n",
       "<style scoped>\n",
       "    .dataframe tbody tr th:only-of-type {\n",
       "        vertical-align: middle;\n",
       "    }\n",
       "\n",
       "    .dataframe tbody tr th {\n",
       "        vertical-align: top;\n",
       "    }\n",
       "\n",
       "    .dataframe thead th {\n",
       "        text-align: right;\n",
       "    }\n",
       "</style>\n",
       "<table border=\"1\" class=\"dataframe\">\n",
       "  <thead>\n",
       "    <tr style=\"text-align: right;\">\n",
       "      <th></th>\n",
       "      <th>No of taxpayer</th>\n",
       "    </tr>\n",
       "  </thead>\n",
       "  <tbody>\n",
       "    <tr>\n",
       "      <th>count</th>\n",
       "      <td>6.000000</td>\n",
       "    </tr>\n",
       "    <tr>\n",
       "      <th>mean</th>\n",
       "      <td>83.333333</td>\n",
       "    </tr>\n",
       "    <tr>\n",
       "      <th>std</th>\n",
       "      <td>68.896057</td>\n",
       "    </tr>\n",
       "    <tr>\n",
       "      <th>min</th>\n",
       "      <td>15.000000</td>\n",
       "    </tr>\n",
       "    <tr>\n",
       "      <th>25%</th>\n",
       "      <td>45.000000</td>\n",
       "    </tr>\n",
       "    <tr>\n",
       "      <th>50%</th>\n",
       "      <td>55.000000</td>\n",
       "    </tr>\n",
       "    <tr>\n",
       "      <th>75%</th>\n",
       "      <td>113.750000</td>\n",
       "    </tr>\n",
       "    <tr>\n",
       "      <th>max</th>\n",
       "      <td>200.000000</td>\n",
       "    </tr>\n",
       "  </tbody>\n",
       "</table>\n",
       "</div>"
      ],
      "text/plain": [
       "       No of taxpayer\n",
       "count        6.000000\n",
       "mean        83.333333\n",
       "std         68.896057\n",
       "min         15.000000\n",
       "25%         45.000000\n",
       "50%         55.000000\n",
       "75%        113.750000\n",
       "max        200.000000"
      ]
     },
     "execution_count": 6,
     "metadata": {},
     "output_type": "execute_result"
    }
   ],
   "source": [
    "data.describe()"
   ]
  },
  {
   "cell_type": "code",
   "execution_count": 3,
   "id": "ff511d9b-6742-4437-af03-73141f70bace",
   "metadata": {},
   "outputs": [
    {
     "data": {
      "text/html": [
       "<div>\n",
       "<style scoped>\n",
       "    .dataframe tbody tr th:only-of-type {\n",
       "        vertical-align: middle;\n",
       "    }\n",
       "\n",
       "    .dataframe tbody tr th {\n",
       "        vertical-align: top;\n",
       "    }\n",
       "\n",
       "    .dataframe thead th {\n",
       "        text-align: right;\n",
       "    }\n",
       "</style>\n",
       "<table border=\"1\" class=\"dataframe\">\n",
       "  <thead>\n",
       "    <tr style=\"text-align: right;\">\n",
       "      <th></th>\n",
       "      <th>0</th>\n",
       "      <th>1</th>\n",
       "    </tr>\n",
       "  </thead>\n",
       "  <tbody>\n",
       "    <tr>\n",
       "      <th>0</th>\n",
       "      <td>Marks in Economics</td>\n",
       "      <td>Marks in Statistics</td>\n",
       "    </tr>\n",
       "    <tr>\n",
       "      <th>1</th>\n",
       "      <td>25</td>\n",
       "      <td>43</td>\n",
       "    </tr>\n",
       "    <tr>\n",
       "      <th>2</th>\n",
       "      <td>28</td>\n",
       "      <td>46</td>\n",
       "    </tr>\n",
       "    <tr>\n",
       "      <th>3</th>\n",
       "      <td>35</td>\n",
       "      <td>49</td>\n",
       "    </tr>\n",
       "    <tr>\n",
       "      <th>4</th>\n",
       "      <td>32</td>\n",
       "      <td>41</td>\n",
       "    </tr>\n",
       "    <tr>\n",
       "      <th>5</th>\n",
       "      <td>31</td>\n",
       "      <td>36</td>\n",
       "    </tr>\n",
       "    <tr>\n",
       "      <th>6</th>\n",
       "      <td>36</td>\n",
       "      <td>32</td>\n",
       "    </tr>\n",
       "    <tr>\n",
       "      <th>7</th>\n",
       "      <td>29</td>\n",
       "      <td>31</td>\n",
       "    </tr>\n",
       "    <tr>\n",
       "      <th>8</th>\n",
       "      <td>38</td>\n",
       "      <td>30</td>\n",
       "    </tr>\n",
       "    <tr>\n",
       "      <th>9</th>\n",
       "      <td>34</td>\n",
       "      <td>33</td>\n",
       "    </tr>\n",
       "    <tr>\n",
       "      <th>10</th>\n",
       "      <td>32</td>\n",
       "      <td>39</td>\n",
       "    </tr>\n",
       "  </tbody>\n",
       "</table>\n",
       "</div>"
      ],
      "text/plain": [
       "                     0                    1\n",
       "0   Marks in Economics  Marks in Statistics\n",
       "1                   25                   43\n",
       "2                   28                   46\n",
       "3                   35                   49\n",
       "4                   32                   41\n",
       "5                   31                   36\n",
       "6                   36                   32\n",
       "7                   29                   31\n",
       "8                   38                   30\n",
       "9                   34                   33\n",
       "10                  32                   39"
      ]
     },
     "execution_count": 3,
     "metadata": {},
     "output_type": "execute_result"
    }
   ],
   "source": [
    "## Q2 ##\n",
    "# df = pd.read_excel('Regression.xlsx')\n",
    "df = pd.read_excel('Regression.xlsx',skiprows=6,header=None)\n",
    "df"
   ]
  },
  {
   "cell_type": "code",
   "execution_count": 39,
   "id": "fc5da45c-addc-4eee-b963-3a09365abe82",
   "metadata": {},
   "outputs": [
    {
     "data": {
      "text/html": [
       "<div>\n",
       "<style scoped>\n",
       "    .dataframe tbody tr th:only-of-type {\n",
       "        vertical-align: middle;\n",
       "    }\n",
       "\n",
       "    .dataframe tbody tr th {\n",
       "        vertical-align: top;\n",
       "    }\n",
       "\n",
       "    .dataframe thead th {\n",
       "        text-align: right;\n",
       "    }\n",
       "</style>\n",
       "<table border=\"1\" class=\"dataframe\">\n",
       "  <thead>\n",
       "    <tr style=\"text-align: right;\">\n",
       "      <th></th>\n",
       "      <th>Marks in Economics</th>\n",
       "      <th>Marks in Statistics</th>\n",
       "    </tr>\n",
       "  </thead>\n",
       "  <tbody>\n",
       "    <tr>\n",
       "      <th>1</th>\n",
       "      <td>25</td>\n",
       "      <td>43</td>\n",
       "    </tr>\n",
       "    <tr>\n",
       "      <th>2</th>\n",
       "      <td>28</td>\n",
       "      <td>46</td>\n",
       "    </tr>\n",
       "    <tr>\n",
       "      <th>3</th>\n",
       "      <td>35</td>\n",
       "      <td>49</td>\n",
       "    </tr>\n",
       "    <tr>\n",
       "      <th>4</th>\n",
       "      <td>32</td>\n",
       "      <td>41</td>\n",
       "    </tr>\n",
       "    <tr>\n",
       "      <th>5</th>\n",
       "      <td>31</td>\n",
       "      <td>36</td>\n",
       "    </tr>\n",
       "    <tr>\n",
       "      <th>6</th>\n",
       "      <td>36</td>\n",
       "      <td>32</td>\n",
       "    </tr>\n",
       "    <tr>\n",
       "      <th>7</th>\n",
       "      <td>29</td>\n",
       "      <td>31</td>\n",
       "    </tr>\n",
       "    <tr>\n",
       "      <th>8</th>\n",
       "      <td>38</td>\n",
       "      <td>30</td>\n",
       "    </tr>\n",
       "    <tr>\n",
       "      <th>9</th>\n",
       "      <td>34</td>\n",
       "      <td>33</td>\n",
       "    </tr>\n",
       "    <tr>\n",
       "      <th>10</th>\n",
       "      <td>32</td>\n",
       "      <td>39</td>\n",
       "    </tr>\n",
       "  </tbody>\n",
       "</table>\n",
       "</div>"
      ],
      "text/plain": [
       "   Marks in Economics Marks in Statistics\n",
       "1                  25                  43\n",
       "2                  28                  46\n",
       "3                  35                  49\n",
       "4                  32                  41\n",
       "5                  31                  36\n",
       "6                  36                  32\n",
       "7                  29                  31\n",
       "8                  38                  30\n",
       "9                  34                  33\n",
       "10                 32                  39"
      ]
     },
     "execution_count": 39,
     "metadata": {},
     "output_type": "execute_result"
    }
   ],
   "source": [
    "# df.columns = df.iloc[:1,:].values[0], df.iloc[:1,:].values[0][1]\n",
    "df.columns = ['Marks in Economics', 'Marks in Statistics']\n",
    "df_new = df.iloc[1:,:]\n",
    "df_new"
   ]
  },
  {
   "cell_type": "code",
   "execution_count": 40,
   "id": "b06e2106-7bd9-4e6e-855e-a68df5e2af5a",
   "metadata": {},
   "outputs": [
    {
     "name": "stdout",
     "output_type": "stream",
     "text": [
      "<class 'pandas.core.frame.DataFrame'>\n",
      "RangeIndex: 10 entries, 1 to 10\n",
      "Data columns (total 2 columns):\n",
      " #   Column               Non-Null Count  Dtype \n",
      "---  ------               --------------  ----- \n",
      " 0   Marks in Economics   10 non-null     object\n",
      " 1   Marks in Statistics  10 non-null     object\n",
      "dtypes: object(2)\n",
      "memory usage: 292.0+ bytes\n"
     ]
    }
   ],
   "source": [
    "df_new.info()"
   ]
  },
  {
   "cell_type": "code",
   "execution_count": 41,
   "id": "4b564613-251a-4e99-b156-81494d6e27cb",
   "metadata": {},
   "outputs": [
    {
     "data": {
      "text/html": [
       "<div>\n",
       "<style scoped>\n",
       "    .dataframe tbody tr th:only-of-type {\n",
       "        vertical-align: middle;\n",
       "    }\n",
       "\n",
       "    .dataframe tbody tr th {\n",
       "        vertical-align: top;\n",
       "    }\n",
       "\n",
       "    .dataframe thead th {\n",
       "        text-align: right;\n",
       "    }\n",
       "</style>\n",
       "<table border=\"1\" class=\"dataframe\">\n",
       "  <thead>\n",
       "    <tr style=\"text-align: right;\">\n",
       "      <th></th>\n",
       "      <th>Marks in Economics</th>\n",
       "      <th>Marks in Statistics</th>\n",
       "    </tr>\n",
       "  </thead>\n",
       "  <tbody>\n",
       "    <tr>\n",
       "      <th>count</th>\n",
       "      <td>10</td>\n",
       "      <td>10</td>\n",
       "    </tr>\n",
       "    <tr>\n",
       "      <th>unique</th>\n",
       "      <td>9</td>\n",
       "      <td>10</td>\n",
       "    </tr>\n",
       "    <tr>\n",
       "      <th>top</th>\n",
       "      <td>32</td>\n",
       "      <td>43</td>\n",
       "    </tr>\n",
       "    <tr>\n",
       "      <th>freq</th>\n",
       "      <td>2</td>\n",
       "      <td>1</td>\n",
       "    </tr>\n",
       "  </tbody>\n",
       "</table>\n",
       "</div>"
      ],
      "text/plain": [
       "        Marks in Economics  Marks in Statistics\n",
       "count                   10                   10\n",
       "unique                   9                   10\n",
       "top                     32                   43\n",
       "freq                     2                    1"
      ]
     },
     "execution_count": 41,
     "metadata": {},
     "output_type": "execute_result"
    }
   ],
   "source": [
    "df_new.describe()"
   ]
  },
  {
   "cell_type": "code",
   "execution_count": 44,
   "id": "18fd2abd-c563-4644-b06e-05c5f4041374",
   "metadata": {},
   "outputs": [
    {
     "data": {
      "text/html": [
       "<div>\n",
       "<style scoped>\n",
       "    .dataframe tbody tr th:only-of-type {\n",
       "        vertical-align: middle;\n",
       "    }\n",
       "\n",
       "    .dataframe tbody tr th {\n",
       "        vertical-align: top;\n",
       "    }\n",
       "\n",
       "    .dataframe thead th {\n",
       "        text-align: right;\n",
       "    }\n",
       "</style>\n",
       "<table border=\"1\" class=\"dataframe\">\n",
       "  <thead>\n",
       "    <tr style=\"text-align: right;\">\n",
       "      <th></th>\n",
       "      <th>Marks in Economics</th>\n",
       "      <th>Marks in Statistics</th>\n",
       "    </tr>\n",
       "  </thead>\n",
       "  <tbody>\n",
       "    <tr>\n",
       "      <th>Marks in Economics</th>\n",
       "      <td>1.000000</td>\n",
       "      <td>-0.393983</td>\n",
       "    </tr>\n",
       "    <tr>\n",
       "      <th>Marks in Statistics</th>\n",
       "      <td>-0.393983</td>\n",
       "      <td>1.000000</td>\n",
       "    </tr>\n",
       "  </tbody>\n",
       "</table>\n",
       "</div>"
      ],
      "text/plain": [
       "                     Marks in Economics  Marks in Statistics\n",
       "Marks in Economics             1.000000            -0.393983\n",
       "Marks in Statistics           -0.393983             1.000000"
      ]
     },
     "execution_count": 44,
     "metadata": {},
     "output_type": "execute_result"
    }
   ],
   "source": [
    "df_new.corr()"
   ]
  },
  {
   "cell_type": "code",
   "execution_count": 45,
   "id": "c70ea365-ee44-4c69-84df-6c3ea524dae6",
   "metadata": {},
   "outputs": [],
   "source": [
    "# For X (independent variable), take all the columns from the file, except salary\n",
    "X = df_new.iloc[:, :-1].values\n",
    "\n",
    "# For Y (dependent variable), take the second column, which is salary\n",
    "y = df_new.iloc[:,1].values"
   ]
  },
  {
   "cell_type": "code",
   "execution_count": 46,
   "id": "071f975f-a976-411e-a195-12ecf0d2a245",
   "metadata": {},
   "outputs": [
    {
     "name": "stdout",
     "output_type": "stream",
     "text": [
      "[33.55945946 34.54324324 37.49459459 36.51081081]\n"
     ]
    }
   ],
   "source": [
    "# Step 2: Split data into training and testing\n",
    "from sklearn.model_selection import train_test_split\n",
    "X_train, X_test, y_train, y_test = train_test_split(X, y, test_size=1/3, random_state=0)\n",
    "\n",
    "# Step 3: Fit Simple Linear Regression to Training Data\n",
    "from sklearn.linear_model import LinearRegression\n",
    "regressor = LinearRegression()\n",
    "regressor.fit(X_train, y_train)\n",
    "\n",
    "# Step 4: Make Prediction\n",
    "y_pred = regressor.predict(X_test)\n",
    "print(y_pred)"
   ]
  },
  {
   "cell_type": "code",
   "execution_count": 47,
   "id": "c815744a-14d3-43eb-99a5-2cbe3dbd2305",
   "metadata": {},
   "outputs": [
    {
     "name": "stdout",
     "output_type": "stream",
     "text": [
      "[[28]\n",
      " [29]\n",
      " [38]\n",
      " [32]\n",
      " [25]\n",
      " [36]]\n",
      "[40.44594595 39.46216216 30.60810811 36.51081081 43.3972973  32.57567568]\n",
      "[[28]\n",
      " [29]\n",
      " [38]\n",
      " [32]\n",
      " [25]\n",
      " [36]]\n"
     ]
    }
   ],
   "source": [
    "print(X_train)\n",
    "type(X_train)\n",
    "print(regressor.predict(X_train))\n",
    "print(X_train)"
   ]
  },
  {
   "cell_type": "code",
   "execution_count": 48,
   "id": "d7847d68-ecd9-4f08-af83-1be9e117d67b",
   "metadata": {},
   "outputs": [
    {
     "data": {
      "image/png": "[encoded data removed]",
      "text/plain": [
       "<Figure size 640x480 with 1 Axes>"
      ]
     },
     "metadata": {},
     "output_type": "display_data"
    },
    {
     "data": {
      "image/png": "[encoded data removed]",
      "text/plain": [
       "<Figure size 640x480 with 1 Axes>"
      ]
     },
     "metadata": {},
     "output_type": "display_data"
    }
   ],
   "source": [
    "# Step 5 - Visualize training set results\n",
    "import matplotlib.pyplot as plt\n",
    "# plot the actual data points of training set\n",
    "plt.scatter(X_train, y_train, color = 'red')\n",
    "# plot the regression line\n",
    "plt.plot(X_train, regressor.predict(X_train), color='blue')\n",
    "plt.title('Salary vs Experience (Training set)')\n",
    "plt.xlabel('Years of Experience')\n",
    "plt.ylabel('Salary')\n",
    "plt.show()\n",
    "\n",
    "# Step 6 - Visualize test set results\n",
    "import matplotlib.pyplot as plt\n",
    "# plot the actual data points of test set\n",
    "plt.scatter(X_test, y_test, color = 'red')\n",
    "# plot the regression line (same as above)\n",
    "plt.plot(X_train, regressor.predict(X_train), color='blue')\n",
    "plt.title('Salary vs Experience (Test set)')\n",
    "plt.xlabel('Years of Experience')\n",
    "plt.ylabel('Salary')\n",
    "plt.show()"
   ]
  },
  {
   "cell_type": "code",
   "execution_count": 50,
   "id": "1affbeff-7c7b-43cf-a995-7c09b3876452",
   "metadata": {},
   "outputs": [
    {
     "name": "stdout",
     "output_type": "stream",
     "text": [
      "The predicted marks of a person in stats when the person has got 45 marks in exonomics is  [23.72162162]\n",
      "Intercept ... Fresher Salary:  67.9918918918919\n",
      "Coefficient ... Additional Salary for Each Additional Year's Experience:  [-0.98378378]\n",
      "MAE = 5.241891891891894\n",
      "MSE = 62.30544192841489\n",
      "RMSE = 7.893379626523413\n"
     ]
    },
    {
     "data": {
      "text/plain": [
       "\"\\nA lower MAE, MSE, and RMSE generally indicate better model performance, meaning the \\npredictions are closer to the actual values\\nThe high MSE value compared to MAE suggests that there might be a few instances \\nwhere the model's predictions were significantly far off from the actual values\\n\""
      ]
     },
     "execution_count": 50,
     "metadata": {},
     "output_type": "execute_result"
    }
   ],
   "source": [
    "# Step 7 - Make new prediction\n",
    "new_marks_pred = regressor.predict([[45]])\n",
    "print('The predicted marks of a person in stats when the person has got 45 marks in exonomics is ',new_marks_pred)\n",
    "\n",
    "# Step 8 - Intercept and Coefficient\n",
    "# Intercept: Salary for \"0\" years of experience (What will be y-axis value if x-axis value is 0?) \n",
    "print(\"Intercept ... marks in stats: \", regressor.intercept_)\n",
    "# coefficient: For each additional year, how much additional salary will we offer?\n",
    "print(\"Coefficient ... Marks in stats for each mark scored in math: \", regressor.coef_)\n",
    "\n",
    "# Evaluate results\n",
    "from sklearn.metrics import mean_absolute_error,mean_squared_error\n",
    "import numpy as np\n",
    "\n",
    "MAE = mean_absolute_error(y_test,y_pred)\n",
    "MSE = mean_squared_error(y_test,y_pred)\n",
    "RMSE = np.sqrt(MSE)\n",
    "\n",
    "# on average, the predictions were off by around 3426.43 units from the actual values\n",
    "print(f\"MAE = {MAE}\") \n",
    "\n",
    "# Squares the absolute differences between the predicted values and the actual values, \n",
    "# and then averages them - Squaring the errors gives more weight to larger errors\n",
    "# An MSE of 21026037.33 suggests that there might be some outliers or \n",
    "# significant errors in our predictions, as squaring amplifies their \n",
    "# contribution to the MSE value\n",
    "print(f\"MSE = {MSE}\")\n",
    "\n",
    "# Now take the square root of the MSE - It has the same units as the original data, \n",
    "# making it easier to interpret in the context of our specific problem\n",
    "# An RMSE of 4585.42 implies that the average prediction error was around 4585.42 units\n",
    "print(f\"RMSE = {RMSE}\")\n",
    "\n",
    "'''\n",
    "A lower MAE, MSE, and RMSE generally indicate better model performance, meaning the \n",
    "predictions are closer to the actual values\n",
    "The high MSE value compared to MAE suggests that there might be a few instances \n",
    "where the model's predictions were significantly far off from the actual values\n",
    "'''"
   ]
  },
  {
   "cell_type": "code",
   "execution_count": null,
   "id": "4fc9f87f-6417-4903-a649-d335dfb7a881",
   "metadata": {},
   "outputs": [],
   "source": []
  }
 ],
 "metadata": {
  "kernelspec": {
   "display_name": "Python 3 (ipykernel)",
   "language": "python",
   "name": "python3"
  },
  "language_info": {
   "codemirror_mode": {
    "name": "ipython",
    "version": 3
   },
   "file_extension": ".py",
   "mimetype": "text/x-python",
   "name": "python",
   "nbconvert_exporter": "python",
   "pygments_lexer": "ipython3",
   "version": "3.11.8"
  }
 },
 "nbformat": 4,
 "nbformat_minor": 5
}
