{
 "cells": [
  {
   "cell_type": "code",
   "execution_count": 1,
   "id": "39bf4591-f438-4fb0-86f2-c3091badcab8",
   "metadata": {},
   "outputs": [
    {
     "data": {
      "text/plain": [
       "3"
      ]
     },
     "execution_count": 1,
     "metadata": {},
     "output_type": "execute_result"
    }
   ],
   "source": [
    "sum(range(1,3))"
   ]
  },
  {
   "cell_type": "code",
   "execution_count": 2,
   "id": "b536c6db-7623-4bdf-8694-e2d5878cf639",
   "metadata": {},
   "outputs": [
    {
     "data": {
      "text/plain": [
       "[0, 1, 2, 3, 4, 5, 6, 7, 8, 9]"
      ]
     },
     "execution_count": 2,
     "metadata": {},
     "output_type": "execute_result"
    }
   ],
   "source": [
    "# initialization  different type of list \n",
    "\n",
    "list(range(10))\n",
    "  "
   ]
  },
  {
   "cell_type": "code",
   "execution_count": 3,
   "id": "a63d051d-882e-4949-8ce5-ce3c3f35553d",
   "metadata": {},
   "outputs": [
    {
     "name": "stdout",
     "output_type": "stream",
     "text": [
      "number is prime : 2\n",
      "number is prime : 3\n",
      "not prime number: 4\n",
      "number is prime : 5\n",
      "not prime number: 6\n",
      "number is prime : 7\n",
      "not prime number: 8\n",
      "not prime number: 9\n"
     ]
    }
   ],
   "source": [
    "#prime number\n",
    "\n",
    "for i in range(2,10):\n",
    "    for h in range(2,i):\n",
    "        if i%h==0:\n",
    "            print(\"not prime number:\",i)\n",
    "            break\n",
    "    else:    \n",
    "        print(\"number is prime :\",i)\n",
    "            \n"
   ]
  },
  {
   "cell_type": "code",
   "execution_count": 4,
   "id": "c363235d-f4e3-43db-a2c6-ee6a4ccef6c2",
   "metadata": {},
   "outputs": [
    {
     "name": "stdout",
     "output_type": "stream",
     "text": [
      "1\n",
      "2\n",
      "3\n",
      "4\n",
      "5\n",
      "6\n",
      "7\n",
      "8\n"
     ]
    }
   ],
   "source": [
    "i=1\n",
    "while i<9:\n",
    "    print(i)\n",
    "    i+=1"
   ]
  },
  {
   "cell_type": "code",
   "execution_count": 14,
   "id": "84648858-8ee6-4790-8401-8c8090439c98",
   "metadata": {},
   "outputs": [
    {
     "name": "stdout",
     "output_type": "stream",
     "text": [
      "\n",
      "0 1 1 2 3 "
     ]
    }
   ],
   "source": [
    "n=5\n",
    "def fibo(n):\n",
    "    a,b=0,1\n",
    "    while a<n:\n",
    "        print(a,end=' ')\n",
    "        a,b=b,a+b\n",
    "print()\n",
    "fibo(n)\n"
   ]
  },
  {
   "cell_type": "code",
   "execution_count": 16,
   "id": "e029eda7-1bb0-448b-b4fb-7eec744eee94",
   "metadata": {},
   "outputs": [
    {
     "name": "stdout",
     "output_type": "stream",
     "text": [
      "[0. 0. 0.]\n",
      "[[0. 0. 0. 0. 0.]\n",
      " [0. 0. 0. 0. 0.]\n",
      " [0. 0. 0. 0. 0.]\n",
      " [0. 0. 0. 0. 0.]\n",
      " [0. 0. 0. 0. 0.]]\n",
      "[1. 1. 1.]\n",
      "[[1. 1. 1.]\n",
      " [1. 1. 1.]\n",
      " [1. 1. 1.]]\n"
     ]
    }
   ],
   "source": [
    "import numpy as np\n",
    "print(np.zeros(3))\n",
    "print(np.zeros((5,5)))\n",
    "print(np.ones(3))\n",
    "print(np.ones((3,3)))\n"
   ]
  },
  {
   "cell_type": "code",
   "execution_count": 19,
   "id": "6e7552c5-bbc1-4066-a52d-53e3d05b4c53",
   "metadata": {},
   "outputs": [
    {
     "name": "stdout",
     "output_type": "stream",
     "text": [
      "[ 0.  5. 10.]\n",
      "[ 0. 10.]\n"
     ]
    }
   ],
   "source": [
    "print(np.linspace(0,10,3))\n",
    "print(np.linspace(0,10,2))\n",
    "   \n",
    "# print(np.linspace(0,5,20))\n",
    "# print(np.linspace(0,5,21))"
   ]
  },
  {
   "cell_type": "code",
   "execution_count": 21,
   "id": "62cdbad7-b6d8-48cd-b0c5-10e25b8110f7",
   "metadata": {},
   "outputs": [
    {
     "data": {
      "text/plain": [
       "array([[ 0.27249734, -0.10070775,  2.38537459, -1.17883425,  1.44042634,\n",
       "        -0.17501641,  0.79989226, -0.00440444, -1.33551286,  0.05717658]])"
      ]
     },
     "execution_count": 21,
     "metadata": {},
     "output_type": "execute_result"
    }
   ],
   "source": [
    "np.random.randn(1,10)"
   ]
  },
  {
   "cell_type": "code",
   "execution_count": null,
   "id": "b559947b-f386-41f4-8976-e030a692dfc1",
   "metadata": {},
   "outputs": [],
   "source": [
    "print(np.random.randn(2))\n",
    "print(np.random.randn(5,5))"
   ]
  },
  {
   "cell_type": "code",
   "execution_count": 22,
   "id": "80e4c89c-0963-42b4-9782-c5731b00edcc",
   "metadata": {},
   "outputs": [
    {
     "name": "stdout",
     "output_type": "stream",
     "text": [
      "[0.91910903 0.6421956  0.75371223 0.13931457]\n"
     ]
    }
   ],
   "source": [
    "np.random.seed(77)\n",
    "print(np.random.rand(4))"
   ]
  },
  {
   "cell_type": "code",
   "execution_count": 24,
   "id": "1eff97c3-7c3b-45c8-829f-2b36743ff136",
   "metadata": {},
   "outputs": [
    {
     "name": "stdout",
     "output_type": "stream",
     "text": [
      "[ 0  1  2  3  4  5  6  7  8  9 10 11 12 13 14 15 16 17 18 19 20 21 22 23\n",
      " 24]\n",
      "[10  7 35  1 11 17  6 20 37 33]\n",
      "[[ 0  1  2  3  4]\n",
      " [ 5  6  7  8  9]\n",
      " [10 11 12 13 14]\n",
      " [15 16 17 18 19]\n",
      " [20 21 22 23 24]]\n",
      "24\n",
      "24\n",
      "0\n"
     ]
    }
   ],
   "source": [
    "arr = np.arange(25) # numbers from 0 to 24\n",
    "ranarr = np.random.randint(0,50,10) # 10 random numbers between 0 and 50\n",
    "\n",
    "print(arr)\n",
    "print(ranarr)\n",
    "\n",
    "# reshape: Returns an array containing the same data with a new shape\n",
    "print(arr.reshape(5,5))\n",
    "\n",
    "# Max, Min and their index positions\n",
    "print(arr.max())\n",
    "print(arr.argmax())\n",
    "print(arr.min())"
   ]
  },
  {
   "cell_type": "code",
   "execution_count": 27,
   "id": "9ddfef0f-dc3f-4df5-953c-fc6086af46aa",
   "metadata": {},
   "outputs": [
    {
     "name": "stdout",
     "output_type": "stream",
     "text": [
      "1776        USA\n",
      "1867     Canada\n",
      "1821    England\n",
      "dtype: object\n"
     ]
    }
   ],
   "source": [
    "import numpy as np\n",
    "import pandas as pd\n",
    "\n",
    "# Creating a series from a Python list\n",
    "myindex = ['USA','Canada','England']\n",
    "\n",
    "mydata = [1776,1867,1821]\n",
    "\n",
    "# Just the numeric index\n",
    "myser = pd.Series(data=myindex,index=mydata)\n",
    "\n",
    "print(myser)\n"
   ]
  },
  {
   "cell_type": "code",
   "execution_count": 30,
   "id": "57d8a86a-33f4-4008-8bd4-260721cc79b4",
   "metadata": {},
   "outputs": [
    {
     "name": "stdout",
     "output_type": "stream",
     "text": [
      "[ 4 29 51 28]\n",
      "Alice       4\n",
      "Bob        29\n",
      "Charles    51\n",
      "Dave       28\n",
      "dtype: int32\n"
     ]
    }
   ],
   "source": [
    "ran_data = np.random.randint(0,100,4)\n",
    "print(ran_data)\n",
    "\n",
    "names = ['Alice','Bob','Charles','Dave']\n",
    "\n",
    "ages = pd.Series(ran_data,names)\n",
    "\n",
    "print(ages)"
   ]
  },
  {
   "cell_type": "markdown",
   "id": "e1b69711-8486-4055-856d-81b8dc4d9283",
   "metadata": {},
   "source": [
    "es))"
   ]
  },
  {
   "cell_type": "code",
   "execution_count": 31,
   "id": "0be948a1-1e63-4dcb-a45c-fa818f56fa49",
   "metadata": {},
   "outputs": [
    {
     "name": "stdout",
     "output_type": "stream",
     "text": [
      "{'Sammy': 5, 'Frank': 10, 'Spike': 7}\n",
      "Sammy     5\n",
      "Frank    10\n",
      "Spike     7\n",
      "dtype: int64\n"
     ]
    }
   ],
   "source": [
    "ages = {'Sammy':5,'Frank':10,'Spike':7}\n",
    "\n",
    "print(ages)\n",
    "\n",
    "print(pd.Series(ages))"
   ]
  },
  {
   "cell_type": "code",
   "execution_count": null,
   "id": "8608b12a-b52c-4220-9829-3b17d9891978",
   "metadata": {},
   "outputs": [],
   "source": []
  }
 ],
 "metadata": {
  "kernelspec": {
   "display_name": "Python 3 (ipykernel)",
   "language": "python",
   "name": "python3"
  },
  "language_info": {
   "codemirror_mode": {
    "name": "ipython",
    "version": 3
   },
   "file_extension": ".py",
   "mimetype": "text/x-python",
   "name": "python",
   "nbconvert_exporter": "python",
   "pygments_lexer": "ipython3",
   "version": "3.11.8"
  }
 },
 "nbformat": 4,
 "nbformat_minor": 5
}
