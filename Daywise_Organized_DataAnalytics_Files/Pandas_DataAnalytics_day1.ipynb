{
 "cells": [
  {
   "cell_type": "raw",
   "id": "620d3193-e52a-44b2-9dbe-f513e9fb68f2",
   "metadata": {},
   "source": [
    "--> Series and dataframes\n",
    "--> Conditional filtering and useful methods\n",
    "--> missing data\n",
    "--> grouping operations\n",
    "--> text and time methods\n",
    "--> inputs and outputs"
   ]
  },
  {
   "cell_type": "code",
   "execution_count": 2,
   "id": "87c36703-7141-4b5f-b912-c6163bb3e72e",
   "metadata": {},
   "outputs": [],
   "source": [
    "import pandas as pd\n",
    "import numpy as np"
   ]
  },
  {
   "cell_type": "code",
   "execution_count": 4,
   "id": "2cddb795-f1e7-4c30-be6f-bd21347f9318",
   "metadata": {},
   "outputs": [
    {
     "data": {
      "text/plain": [
       "0    1776\n",
       "1    1876\n",
       "2    1821\n",
       "dtype: int64"
      ]
     },
     "execution_count": 4,
     "metadata": {},
     "output_type": "execute_result"
    }
   ],
   "source": [
    "myindex = ['USA','Canada','England']\n",
    "mydata = [1776,1876,1821]\n",
    "series = pd.Series(data=mydata) #data is an argument here\n",
    "series"
   ]
  },
  {
   "cell_type": "code",
   "execution_count": 9,
   "id": "98510d3b-4cb6-4e0e-847c-21831ef5dfca",
   "metadata": {},
   "outputs": [
    {
     "data": {
      "text/plain": [
       "USA        1776\n",
       "Canada     1876\n",
       "England    1821\n",
       "dtype: int64"
      ]
     },
     "execution_count": 9,
     "metadata": {},
     "output_type": "execute_result"
    }
   ],
   "source": [
    "series = pd.Series(data=mydata, index=myindex) #data equates to the actual data, index equates to the indices given by us\n",
    "series"
   ]
  },
  {
   "cell_type": "code",
   "execution_count": 12,
   "id": "cc8989e0-770c-4bbe-b0b5-44bad330a1cc",
   "metadata": {},
   "outputs": [
    {
     "name": "stdout",
     "output_type": "stream",
     "text": [
      "Swapnil    49\n",
      "Shreyas    38\n",
      "Ameya      40\n",
      "Sagar       6\n",
      "dtype: int32\n"
     ]
    }
   ],
   "source": [
    "ran_data = np.random.randint(0,100,4)\n",
    "ran_data\n",
    "names = ['Swapnil','Shreyas','Ameya','Sagar']\n",
    "ser = pd.Series(ran_data,names)\n",
    "print(ser)"
   ]
  },
  {
   "cell_type": "code",
   "execution_count": 16,
   "id": "832828be-4375-4597-b593-ecec22dbc463",
   "metadata": {},
   "outputs": [
    {
     "name": "stdout",
     "output_type": "stream",
     "text": [
      "Swapnil     5\n",
      "sagar       8\n",
      "shreyas    12\n",
      "dtype: int64\n"
     ]
    }
   ],
   "source": [
    "#creating a series from dictionary\n",
    "ages = {\"Swapnil\":5,'sagar':8,'shreyas':12}\n",
    "print(pd.Series(ages))"
   ]
  },
  {
   "cell_type": "code",
   "execution_count": 21,
   "id": "34d37c21-6e88-45f8-ba93-7bd7e584f951",
   "metadata": {},
   "outputs": [
    {
     "name": "stdout",
     "output_type": "stream",
     "text": [
      "Japan       80\n",
      "Germany     50\n",
      "USA        100\n",
      "India      200\n",
      "dtype: int64\n"
     ]
    },
    {
     "data": {
      "text/plain": [
       "Russia      10\n",
       "Germany     70\n",
       "USA        200\n",
       "India      500\n",
       "dtype: int64"
      ]
     },
     "execution_count": 21,
     "metadata": {},
     "output_type": "execute_result"
    }
   ],
   "source": [
    "#Using named index\n",
    "#imaginary sales data for 1st and 2nd quarters for a global company\n",
    "\n",
    "q1 = {'Japan':80,'Germany':50,'USA':100,'India':200}\n",
    "q2 = {'Russia':10,'Germany':70,'USA':200,'India':500}\n",
    "\n",
    "sales_q1 = pd.Series(q1)\n",
    "sales_q2 = pd.Series(q2)\n",
    "print(sales_q1)\n",
    "sales_q2"
   ]
  },
  {
   "cell_type": "code",
   "execution_count": 24,
   "id": "c74eb0e9-0fc9-460b-ab6d-e075959a732f",
   "metadata": {},
   "outputs": [
    {
     "name": "stdout",
     "output_type": "stream",
     "text": [
      "Japan\n"
     ]
    },
    {
     "data": {
      "text/plain": [
       "Index(['Japan', 'Germany', 'USA', 'India'], dtype='object')"
      ]
     },
     "execution_count": 24,
     "metadata": {},
     "output_type": "execute_result"
    }
   ],
   "source": [
    "print(sales_q1.keys()[0]) #key of the 0th index position\n",
    "sales_q1.keys() # all the keys are printed"
   ]
  },
  {
   "cell_type": "code",
   "execution_count": 28,
   "id": "2a052039-19f5-4d54-a1d7-0eab85b80770",
   "metadata": {},
   "outputs": [
    {
     "name": "stdout",
     "output_type": "stream",
     "text": [
      "Japan      countrycountry\n",
      "Germany               100\n",
      "USA                   200\n",
      "India                 400\n",
      "dtype: object\n",
      "Japan      0.8\n",
      "Germany    0.5\n",
      "USA        1.0\n",
      "India      2.0\n",
      "dtype: float64\n"
     ]
    }
   ],
   "source": [
    "q3 = {'Japan':'country','Germany':50,'USA':100,'India':200}\n",
    "sales_q3 = pd.Series(q3)\n",
    "print(sales_q3*2)\n",
    "print(sales_q1/100)"
   ]
  },
  {
   "cell_type": "code",
   "execution_count": 36,
   "id": "765fe808-7931-424e-a02c-02d477889a8c",
   "metadata": {},
   "outputs": [
    {
     "name": "stdout",
     "output_type": "stream",
     "text": [
      "Germany    120.0\n",
      "India      700.0\n",
      "Japan        NaN\n",
      "Russia       NaN\n",
      "USA        300.0\n",
      "dtype: float64\n"
     ]
    }
   ],
   "source": [
    "#mismatach with NaN\n",
    "print(sales_q1 + sales_q2)"
   ]
  },
  {
   "cell_type": "code",
   "execution_count": 38,
   "id": "a3097078-4b8a-45fc-bf99-505477f22ae9",
   "metadata": {},
   "outputs": [
    {
     "name": "stdout",
     "output_type": "stream",
     "text": [
      "Germany    120.0\n",
      "India      700.0\n",
      "Japan       80.0\n",
      "Russia      10.0\n",
      "USA        300.0\n",
      "dtype: float64\n"
     ]
    }
   ],
   "source": [
    "#fill NaN values with any matching data type value you want\n",
    "print(sales_q1.add(sales_q2,fill_value=0))"
   ]
  },
  {
   "cell_type": "code",
   "execution_count": 49,
   "id": "c1aabc4b-9734-4a31-8d1c-9a037686939d",
   "metadata": {},
   "outputs": [
    {
     "data": {
      "text/plain": [
       "array([[95, 11, 81],\n",
       "       [70, 63, 87],\n",
       "       [75,  9, 77],\n",
       "       [40,  4, 63]])"
      ]
     },
     "execution_count": 49,
     "metadata": {},
     "output_type": "execute_result"
    }
   ],
   "source": [
    "np.random.seed(101)\n",
    "mydata = np.random.randint(0,101,(4,3)) #4x3 array is created\n",
    "mydata"
   ]
  },
  {
   "cell_type": "code",
   "execution_count": 50,
   "id": "74495e10-7f35-4122-8887-c04e801cb8eb",
   "metadata": {},
   "outputs": [],
   "source": [
    "myindex = ['CA','NY','AZ','TX']\n",
    "mycol = ['Jan','Feb','Mar']"
   ]
  },
  {
   "cell_type": "code",
   "execution_count": 54,
   "id": "d2be5313-dcea-4ea8-b496-5802b9917733",
   "metadata": {},
   "outputs": [
    {
     "data": {
      "text/html": [
       "<div>\n",
       "<style scoped>\n",
       "    .dataframe tbody tr th:only-of-type {\n",
       "        vertical-align: middle;\n",
       "    }\n",
       "\n",
       "    .dataframe tbody tr th {\n",
       "        vertical-align: top;\n",
       "    }\n",
       "\n",
       "    .dataframe thead th {\n",
       "        text-align: right;\n",
       "    }\n",
       "</style>\n",
       "<table border=\"1\" class=\"dataframe\">\n",
       "  <thead>\n",
       "    <tr style=\"text-align: right;\">\n",
       "      <th></th>\n",
       "      <th>0</th>\n",
       "      <th>1</th>\n",
       "      <th>2</th>\n",
       "    </tr>\n",
       "  </thead>\n",
       "  <tbody>\n",
       "    <tr>\n",
       "      <th>CA</th>\n",
       "      <td>95</td>\n",
       "      <td>11</td>\n",
       "      <td>81</td>\n",
       "    </tr>\n",
       "    <tr>\n",
       "      <th>NY</th>\n",
       "      <td>70</td>\n",
       "      <td>63</td>\n",
       "      <td>87</td>\n",
       "    </tr>\n",
       "    <tr>\n",
       "      <th>AZ</th>\n",
       "      <td>75</td>\n",
       "      <td>9</td>\n",
       "      <td>77</td>\n",
       "    </tr>\n",
       "    <tr>\n",
       "      <th>TX</th>\n",
       "      <td>40</td>\n",
       "      <td>4</td>\n",
       "      <td>63</td>\n",
       "    </tr>\n",
       "  </tbody>\n",
       "</table>\n",
       "</div>"
      ],
      "text/plain": [
       "     0   1   2\n",
       "CA  95  11  81\n",
       "NY  70  63  87\n",
       "AZ  75   9  77\n",
       "TX  40   4  63"
      ]
     },
     "execution_count": 54,
     "metadata": {},
     "output_type": "execute_result"
    }
   ],
   "source": [
    "df = pd.DataFrame(data=mydata,index=myindex)\n",
    "df"
   ]
  },
  {
   "cell_type": "code",
   "execution_count": 55,
   "id": "620d8041-6dd5-4b0f-92ba-64ec0c64053e",
   "metadata": {},
   "outputs": [
    {
     "data": {
      "text/html": [
       "<div>\n",
       "<style scoped>\n",
       "    .dataframe tbody tr th:only-of-type {\n",
       "        vertical-align: middle;\n",
       "    }\n",
       "\n",
       "    .dataframe tbody tr th {\n",
       "        vertical-align: top;\n",
       "    }\n",
       "\n",
       "    .dataframe thead th {\n",
       "        text-align: right;\n",
       "    }\n",
       "</style>\n",
       "<table border=\"1\" class=\"dataframe\">\n",
       "  <thead>\n",
       "    <tr style=\"text-align: right;\">\n",
       "      <th></th>\n",
       "      <th>Jan</th>\n",
       "      <th>Feb</th>\n",
       "      <th>Mar</th>\n",
       "    </tr>\n",
       "  </thead>\n",
       "  <tbody>\n",
       "    <tr>\n",
       "      <th>CA</th>\n",
       "      <td>95</td>\n",
       "      <td>11</td>\n",
       "      <td>81</td>\n",
       "    </tr>\n",
       "    <tr>\n",
       "      <th>NY</th>\n",
       "      <td>70</td>\n",
       "      <td>63</td>\n",
       "      <td>87</td>\n",
       "    </tr>\n",
       "    <tr>\n",
       "      <th>AZ</th>\n",
       "      <td>75</td>\n",
       "      <td>9</td>\n",
       "      <td>77</td>\n",
       "    </tr>\n",
       "    <tr>\n",
       "      <th>TX</th>\n",
       "      <td>40</td>\n",
       "      <td>4</td>\n",
       "      <td>63</td>\n",
       "    </tr>\n",
       "  </tbody>\n",
       "</table>\n",
       "</div>"
      ],
      "text/plain": [
       "    Jan  Feb  Mar\n",
       "CA   95   11   81\n",
       "NY   70   63   87\n",
       "AZ   75    9   77\n",
       "TX   40    4   63"
      ]
     },
     "execution_count": 55,
     "metadata": {},
     "output_type": "execute_result"
    }
   ],
   "source": [
    "df = pd.DataFrame(data=mydata,index=myindex, columns = mycol)\n",
    "df"
   ]
  },
  {
   "cell_type": "code",
   "execution_count": 57,
   "id": "71e87f04-fbd8-4715-8397-a990acf9774a",
   "metadata": {},
   "outputs": [
    {
     "name": "stdout",
     "output_type": "stream",
     "text": [
      "<class 'pandas.core.frame.DataFrame'>\n",
      "Index: 4 entries, CA to TX\n",
      "Data columns (total 3 columns):\n",
      " #   Column  Non-Null Count  Dtype\n",
      "---  ------  --------------  -----\n",
      " 0   Jan     4 non-null      int32\n",
      " 1   Feb     4 non-null      int32\n",
      " 2   Mar     4 non-null      int32\n",
      "dtypes: int32(3)\n",
      "memory usage: 80.0+ bytes\n"
     ]
    }
   ],
   "source": [
    "df.info()"
   ]
  },
  {
   "cell_type": "code",
   "execution_count": null,
   "id": "71c82979-1bc6-4169-b375-900f0688340d",
   "metadata": {},
   "outputs": [],
   "source": []
  },
  {
   "cell_type": "code",
   "execution_count": null,
   "id": "c33901fd-e15c-4560-84ad-ceba9e50b2e5",
   "metadata": {},
   "outputs": [],
   "source": []
  },
  {
   "cell_type": "code",
   "execution_count": null,
   "id": "aff72abf-02b3-4824-8399-4fbfeace270a",
   "metadata": {},
   "outputs": [],
   "source": []
  }
 ],
 "metadata": {
  "kernelspec": {
   "display_name": "Python 3 (ipykernel)",
   "language": "python",
   "name": "python3"
  },
  "language_info": {
   "codemirror_mode": {
    "name": "ipython",
    "version": 3
   },
   "file_extension": ".py",
   "mimetype": "text/x-python",
   "name": "python",
   "nbconvert_exporter": "python",
   "pygments_lexer": "ipython3",
   "version": "3.11.7"
  }
 },
 "nbformat": 4,
 "nbformat_minor": 5
}
